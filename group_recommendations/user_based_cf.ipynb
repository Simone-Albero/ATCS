{
 "cells": [
  {
   "cell_type": "code",
   "execution_count": 150,
   "metadata": {},
   "outputs": [],
   "source": [
    "import pandas as pd\n",
    "import numpy as np\n",
    "import random"
   ]
  },
  {
   "cell_type": "code",
   "execution_count": 151,
   "metadata": {},
   "outputs": [
    {
     "name": "stdout",
     "output_type": "stream",
     "text": [
      "   userId  movieId  rating  timestamp\n",
      "0       1        1     4.0  964982703\n",
      "1       1        3     4.0  964981247\n",
      "2       1        6     4.0  964982224\n",
      "3       1       47     5.0  964983815\n",
      "4       1       50     5.0  964982931\n",
      "\n",
      "Row num:  100836\n"
     ]
    }
   ],
   "source": [
    "dsPath = 'ml-latest-small/ratings.csv'\n",
    "df = pd.read_csv(dsPath)\n",
    "\n",
    "print(df.head())\n",
    "print(\"\\nRow num: \", df.shape[0])"
   ]
  },
  {
   "cell_type": "code",
   "execution_count": 152,
   "metadata": {},
   "outputs": [
    {
     "name": "stdout",
     "output_type": "stream",
     "text": [
      "165.30491803278687\n"
     ]
    }
   ],
   "source": [
    "print(df.shape[0]/df['userId'].unique().shape[0])"
   ]
  },
  {
   "cell_type": "code",
   "execution_count": 153,
   "metadata": {},
   "outputs": [
    {
     "name": "stdout",
     "output_type": "stream",
     "text": [
      "   userId_x  movieId  rating_x  timestamp_x  userId_y  rating_y  timestamp_y\n",
      "0         1      333       5.0    964981179         2       4.0   1445715029\n",
      "1         1     3578       5.0    964980668         2       4.0   1445714885\n"
     ]
    }
   ],
   "source": [
    "def getCoRatedItems(df, userX, userY):\n",
    "    xRatings = df[df['userId'] == userX]\n",
    "    yRatings = df[df['userId'] == userY]\n",
    "\n",
    "    return pd.merge(xRatings, yRatings, on='movieId', how='inner')\n",
    "\n",
    "userX, userY = 1, 2\n",
    "print(getCoRatedItems(df, userX, userY))"
   ]
  },
  {
   "cell_type": "code",
   "execution_count": 154,
   "metadata": {},
   "outputs": [
    {
     "name": "stdout",
     "output_type": "stream",
     "text": [
      "-0.46303926413858626\n"
     ]
    }
   ],
   "source": [
    "def pearsonSimilarity(df, userX, userY):\n",
    "    coRatedItems = getCoRatedItems(df, userX, userY)\n",
    "\n",
    "    if coRatedItems.empty:\n",
    "        return 0\n",
    "\n",
    "    xRating = coRatedItems['rating_x']\n",
    "    yRating = coRatedItems['rating_y']\n",
    "\n",
    "    xMean = np.mean(xRating)\n",
    "    yMean = np.mean(yRating)\n",
    "\n",
    "    den = np.sqrt(np.sum((xRating - xMean)**2)) * np.sqrt(np.sum((yRating - yMean)**2))\n",
    "    if den == 0:\n",
    "        return 0\n",
    "    else:\n",
    "        return np.sum((xRating - xMean) * (yRating - yMean)) / den\n",
    "\n",
    "userX, userY = 1, 22\n",
    "print(pearsonSimilarity(df, userX, userY))"
   ]
  },
  {
   "cell_type": "code",
   "execution_count": 155,
   "metadata": {},
   "outputs": [
    {
     "name": "stdout",
     "output_type": "stream",
     "text": [
      "-0.49940970124479467\n"
     ]
    }
   ],
   "source": [
    "def cosineSimilarity(df, userX, userY):\n",
    "    coRatedItems = getCoRatedItems(df, userX, userY)\n",
    "\n",
    "    if coRatedItems.empty:\n",
    "        return 0\n",
    "\n",
    "    xRating = coRatedItems['rating_x']\n",
    "    yRating = coRatedItems['rating_y']\n",
    "\n",
    "    ratingMean = np.mean(df[df['movieId'].isin(coRatedItems['movieId'])]['rating'])\n",
    "    \n",
    "    num = np.dot(xRating - ratingMean, yRating - ratingMean)\n",
    "    den = np.linalg.norm(xRating - ratingMean) * np.linalg.norm(yRating - ratingMean)\n",
    "\n",
    "    if den == 0:\n",
    "        return 0\n",
    "    else:\n",
    "        return num / den\n",
    "\n",
    "userX, userY = 1, 22\n",
    "print(cosineSimilarity(df, userX, userY))"
   ]
  },
  {
   "cell_type": "code",
   "execution_count": 156,
   "metadata": {},
   "outputs": [
    {
     "name": "stdout",
     "output_type": "stream",
     "text": [
      "0.21648942347191438\n"
     ]
    }
   ],
   "source": [
    "def triangleSimilarity(df, userX, userY):\n",
    "    coRatedItems = getCoRatedItems(df, userX, userY)\n",
    "\n",
    "    if coRatedItems.empty:\n",
    "        return 0\n",
    "\n",
    "    xRating = coRatedItems['rating_x']\n",
    "    yRating = coRatedItems['rating_y']\n",
    "\n",
    "    xMean = np.mean(xRating)\n",
    "    yMean = np.mean(yRating)\n",
    "\n",
    "    num = np.sqrt(np.sum((xRating - yRating)**2))\n",
    "    den = np.sqrt(np.sum((xRating)**2)) + (np.sqrt(np.sum((yRating)**2)))\n",
    "    triangle = 1 - num / den\n",
    "\n",
    "    absMeanErr = abs(xMean - yMean)\n",
    "    absStdErr = abs(xRating.std(ddof=0) - yRating.std(ddof=0))\n",
    "    userRatingPref = 1 - 1 / (1 +  np.exp(- absMeanErr * absStdErr))\n",
    "\n",
    "    return triangle * userRatingPref\n",
    "\n",
    "userX, userY = 1, 22\n",
    "print(triangleSimilarity(df, userX, userY))"
   ]
  },
  {
   "cell_type": "code",
   "execution_count": 157,
   "metadata": {},
   "outputs": [
    {
     "name": "stdout",
     "output_type": "stream",
     "text": [
      "0.4\n"
     ]
    }
   ],
   "source": [
    "def jaccardSimilarity(df, userX, userY):\n",
    "    coRatedItems = getCoRatedItems(df, userX, userY)\n",
    "\n",
    "    if coRatedItems.empty:\n",
    "        return 0\n",
    "\n",
    "    xRating = set(coRatedItems['rating_x'])\n",
    "    yRating = set(coRatedItems['rating_y'])\n",
    "\n",
    "    intersection = len(xRating.intersection(yRating))\n",
    "    union = len(xRating.union(yRating))\n",
    "\n",
    "    if union == 0:\n",
    "        return 0\n",
    "    return intersection / union\n",
    "\n",
    "userX, userY = 1, 22\n",
    "print(jaccardSimilarity(df, userX, userY))"
   ]
  },
  {
   "cell_type": "code",
   "execution_count": 158,
   "metadata": {},
   "outputs": [
    {
     "name": "stdout",
     "output_type": "stream",
     "text": [
      "0.16015261286229274\n"
     ]
    }
   ],
   "source": [
    "def euclideanDistance(df, userX, userY):\n",
    "    coRatedItems = getCoRatedItems(df, userX, userY)\n",
    "\n",
    "    if coRatedItems.empty:\n",
    "        return 0\n",
    "\n",
    "    xRating = coRatedItems['rating_x']\n",
    "    yRating = coRatedItems['rating_y']\n",
    "\n",
    "    return 1 / (1 + np.sqrt(np.sum((xRating - yRating)**2)))\n",
    "\n",
    "userX, userY = 1, 22\n",
    "print(euclideanDistance(df, userX, userY))"
   ]
  },
  {
   "cell_type": "code",
   "execution_count": 159,
   "metadata": {},
   "outputs": [
    {
     "name": "stdout",
     "output_type": "stream",
     "text": [
      "0.08333333333333333\n"
     ]
    }
   ],
   "source": [
    "def manhattanDistance(df, userX, userY):\n",
    "    coRatedItems = getCoRatedItems(df, userX, userY)\n",
    "\n",
    "    if coRatedItems.empty:\n",
    "        return 0\n",
    "\n",
    "    xRating = coRatedItems['rating_x']\n",
    "    yRating = coRatedItems['rating_y']\n",
    "\n",
    "    return 1 / (1 + np.sum(np.abs(xRating - yRating)))\n",
    "\n",
    "userX, userY = 1, 22\n",
    "print(manhattanDistance(df, userX, userY))"
   ]
  },
  {
   "cell_type": "code",
   "execution_count": 160,
   "metadata": {},
   "outputs": [
    {
     "name": "stdout",
     "output_type": "stream",
     "text": [
      "[(476, 0.7869358789643607), (210, 0.7676494735787385), (71, -0.7304869991056846), (297, 0.7062814666082009), (44, 0.6844475644404534), (394, 0.6506000486323554), (248, 0.6246950475544242), (369, 0.6120977479108417)]\n",
      "[(414, 0.41186410352090486), (604, -0.4075557568177074), (589, -0.38807526285316635), (524, 0.384954892146264), (136, 0.38245559905852544), (337, -0.3444879190396), (590, 0.3111824770205233)]\n"
     ]
    }
   ],
   "source": [
    "def getNeighbors(df, user, item = None, blacklist = [], similarityFun = pearsonSimilarity, simTh = 0.6, k = 30, overlapTh = 10):\n",
    "    neighbors = []\n",
    "\n",
    "    for candidate in df['userId'].unique():\n",
    "        coRatedItemsNum = getCoRatedItems(df, user, candidate).shape[0]\n",
    "        \n",
    "        if user != candidate and candidate not in blacklist and coRatedItemsNum >= overlapTh:\n",
    "            sim = similarityFun(df, user, candidate)\n",
    "            if item == None:\n",
    "                if abs(sim) > simTh:\n",
    "                    neighbors.append((candidate, sim))\n",
    "                    if simTh != 0 and len(neighbors) == k:\n",
    "                        break\n",
    "            else:\n",
    "                if not df[(df['userId'] == candidate) & (df['movieId'] == item)].empty:\n",
    "                    if abs(sim) > simTh:\n",
    "                        neighbors.append((candidate, sim))\n",
    "                        if simTh != 0 and len(neighbors) == k:\n",
    "                            break\n",
    "\n",
    "    return sorted(neighbors, key=lambda x: abs(x[1]), reverse=True)[:k]\n",
    "\n",
    "user, item = 1, 193\n",
    "print(getNeighbors(df, user))\n",
    "print(getNeighbors(df, user, item, [], pearsonSimilarity, 0.3, 15))"
   ]
  },
  {
   "cell_type": "code",
   "execution_count": 161,
   "metadata": {},
   "outputs": [
    {
     "name": "stdout",
     "output_type": "stream",
     "text": [
      "[(210, 0.7676494735787385), (71, -0.7304869991056846), (297, 0.7062814666082009), (44, 0.6844475644404534), (248, 0.6246950475544242), (414, 0.41186410352090486), (604, -0.4075557568177074)]\n"
     ]
    }
   ],
   "source": [
    "def customGetNeighbors(df, user, item, blacklist = [], similarityFun = pearsonSimilarity, k1 = 5, k2 = 15):\n",
    "    neighbors = []\n",
    "\n",
    "    simBasedNeighbors = getNeighbors(df, user, None, blacklist, similarityFun, 0.6, k1)\n",
    "    neighbors.extend(simBasedNeighbors)\n",
    "\n",
    "    itemBasedNeighbors = getNeighbors(df, user, item, blacklist, similarityFun, 0.4, k2)\n",
    "    neighbors.extend(itemBasedNeighbors)\n",
    "    \n",
    "    return neighbors\n",
    "\n",
    "user, item = 1, 193\n",
    "print(customGetNeighbors(df, user, item))"
   ]
  },
  {
   "cell_type": "code",
   "execution_count": 175,
   "metadata": {},
   "outputs": [
    {
     "name": "stdout",
     "output_type": "stream",
     "text": [
      "4.048833148287396\n"
     ]
    }
   ],
   "source": [
    "def basePred(df, user, item, similarityFun = pearsonSimilarity):\n",
    "    neighbors = getNeighbors(df, user, item, [], similarityFun, 0.3)\n",
    "    uMean = np.mean(df[df['userId'] == user]['rating'])\n",
    "    num, den = 0, 0\n",
    "\n",
    "    for neighbor, sim in neighbors:\n",
    "        nRating = df[(df['userId'] == neighbor) & (df['movieId'] == item)]['rating']\n",
    "\n",
    "        if not nRating.empty:\n",
    "            nMean = np.mean(df[df['userId'] == neighbor]['rating'])\n",
    "            num += sim * (nRating.values[0] - nMean)\n",
    "            den += abs(sim)\n",
    "\n",
    "    if den == 0 or neighbors == []:\n",
    "        return 0\n",
    "\n",
    "    return uMean + num / den\n",
    "\n",
    "user, item = 1, 14   \n",
    "print(basePred(df, user, item))"
   ]
  },
  {
   "cell_type": "code",
   "execution_count": 173,
   "metadata": {},
   "outputs": [
    {
     "name": "stdout",
     "output_type": "stream",
     "text": [
      "3.6584707329901596\n"
     ]
    }
   ],
   "source": [
    "def recursivePred(df, user, item, lev = 0, blacklist = [], similarityFun = pearsonSimilarity, lmb = 0.5, levTh = 1):\n",
    "    if lev >= levTh:\n",
    "        return basePred(df, user, item)\n",
    "\n",
    "    neighbors = customGetNeighbors(df, user, item, blacklist, similarityFun)\n",
    "    uMean = np.mean(df[df['userId'] == user]['rating'])\n",
    "    num, den = 0, 0\n",
    "    \n",
    "    for neighbor, sim in neighbors:\n",
    "        nRating = df[(df['userId'] == neighbor) & (df['movieId'] == item)]['rating']\n",
    "        nMean = np.mean(df[df['userId'] == neighbor]['rating'])\n",
    "\n",
    "        if not nRating.empty:\n",
    "            num += sim * (nRating.values[0] - nMean)\n",
    "            den += abs(sim)\n",
    "        else:\n",
    "            blacklist.append(user)\n",
    "            num += lmb * sim * (recursivePred(df, neighbor, item, lev+1, blacklist.copy()) - nMean)\n",
    "            den += lmb * abs(sim)            \n",
    "\n",
    "    if den == 0 or neighbors == []:\n",
    "        return 0\n",
    "    else:\n",
    "        return uMean + num / den\n",
    "\n",
    "user, item = 1, 14  \n",
    "print(recursivePred(df, user, item))"
   ]
  },
  {
   "cell_type": "code",
   "execution_count": 182,
   "metadata": {},
   "outputs": [
    {
     "name": "stdout",
     "output_type": "stream",
     "text": [
      "117\n",
      "[(146662, 5.286669165417291), (112175, 4.88001723555745), (134130, 4.679474447290951), (27904, 4.644896633115004), (1356, 4.4568217827486), (5816, 4.434219049742726), (187593, 4.368247430459392), (2011, 4.358354926357309), (77561, 4.350662134333023), (5378, 4.096360517208893)]\n"
     ]
    }
   ],
   "source": [
    "def getRecommendedItems(df, user, rateTh = 4.5, predTh = 4, k1 = 10, k2 = 10, similarityFun=pearsonSimilarity):\n",
    "    uItems = set(df[df['userId'] == user]['movieId'])\n",
    "    \n",
    "    neighbors = getNeighbors(df, user, None, [], similarityFun, 0.6, k1)\n",
    "    \n",
    "    nItems = set()\n",
    "    for neighbor, _ in neighbors:\n",
    "        tmp = set(df[(df['userId'] == neighbor) & (df['rating'] >= rateTh)]['movieId'])\n",
    "        nItems.update(tmp)\n",
    "\n",
    "    notYetRated = list(nItems - uItems)\n",
    "    random.shuffle(notYetRated)\n",
    "\n",
    "    item2Pred = []\n",
    "    for item in notYetRated:\n",
    "        pred = basePred(df, user, item)\n",
    "\n",
    "        if pred >= predTh:\n",
    "            item2Pred.append((item, pred))\n",
    "        if predTh != 0 and len(item2Pred) == k2:\n",
    "            break\n",
    "\n",
    "    return sorted(item2Pred, key=lambda x: x[1], reverse=True)[:k2]\n",
    "\n",
    "user = 1  \n",
    "print(getRecommendedItems(df, user))"
   ]
  },
  {
   "cell_type": "code",
   "execution_count": 178,
   "metadata": {},
   "outputs": [
    {
     "name": "stdout",
     "output_type": "stream",
     "text": [
      "Pearson mean err:  0.48808042453277645\n",
      "Cosine mean err:  0.4955752140026418\n",
      "Triangle mean err:  0.6401158513392717\n",
      "Jaccard mean err:  0.7385961782427192\n",
      "Euclidean mean err:  4.3\n",
      "Manhattan mean err:  4.3\n"
     ]
    }
   ],
   "source": [
    "user = 1\n",
    "uItems = list(df[df['userId'] == user]['movieId'])[:20]\n",
    "\n",
    "pearsonPed, cosinePred, trianglePred, jaccardPred, euclideanPred, manhattanPred  = [], [], [], [], [], [] \n",
    "\n",
    "for item in uItems:\n",
    "    itemPred = df[(df['userId'] == user) & (df['movieId'] == item)]['rating'].values[0]\n",
    "\n",
    "    pearsonPed.append(abs(recursivePred(df, user, item, 0, [], pearsonSimilarity) - itemPred))\n",
    "    cosinePred.append(abs(recursivePred(df, user, item, 0, [], cosineSimilarity) - itemPred))\n",
    "    trianglePred.append(abs(recursivePred(df, user, item, 0, [], triangleSimilarity) - itemPred))\n",
    "    jaccardPred.append(abs(recursivePred(df, user, item, 0, [], jaccardSimilarity) - itemPred))\n",
    "    euclideanPred.append(abs(recursivePred(df, user, item, 0, [], euclideanDistance) - itemPred))\n",
    "    manhattanPred.append(abs(recursivePred(df, user, item, 0, [], manhattanDistance) - itemPred))\n",
    "\n",
    "print(\"Pearson mean err: \", np.mean(pearsonPed))\n",
    "print(\"Cosine mean err: \", np.mean(cosinePred))\n",
    "print(\"Triangle mean err: \", np.mean(trianglePred))\n",
    "print(\"Jaccard mean err: \", np.mean(jaccardPred))\n",
    "print(\"Euclidean mean err: \", np.mean(euclideanPred))\n",
    "print(\"Manhattan mean err: \", np.mean(manhattanPred))"
   ]
  },
  {
   "cell_type": "code",
   "execution_count": 183,
   "metadata": {},
   "outputs": [
    {
     "name": "stdout",
     "output_type": "stream",
     "text": [
      "Standard prediction mean err:  0.4639029195840401\n",
      "Recursive prediction mean err:  0.414504085090476\n"
     ]
    }
   ],
   "source": [
    "user = 1\n",
    "uItems = list(df[df['userId'] == user]['movieId'])[:50]\n",
    "\n",
    "standardPred, recPred  = [], []\n",
    "\n",
    "for item in uItems:\n",
    "    itemPred = df[(df['userId'] == user) & (df['movieId'] == item)]['rating'].values[0]\n",
    "\n",
    "    standardPred.append(abs(basePred(df, user, item) - itemPred))\n",
    "    recPred.append(abs(recursivePred(df, user, item) - itemPred))\n",
    "\n",
    "print(\"Standard prediction mean err: \", np.mean(standardPred))\n",
    "print(\"Recursive prediction mean err: \", np.mean(recPred))"
   ]
  }
 ],
 "metadata": {
  "kernelspec": {
   "display_name": "ATCS",
   "language": "python",
   "name": "python3"
  },
  "language_info": {
   "codemirror_mode": {
    "name": "ipython",
    "version": 3
   },
   "file_extension": ".py",
   "mimetype": "text/x-python",
   "name": "python",
   "nbconvert_exporter": "python",
   "pygments_lexer": "ipython3",
   "version": "3.11.8"
  }
 },
 "nbformat": 4,
 "nbformat_minor": 2
}
