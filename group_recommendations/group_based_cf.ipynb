{
 "cells": [
  {
   "cell_type": "code",
   "execution_count": 18,
   "metadata": {},
   "outputs": [],
   "source": [
    "import import_ipynb\n",
    "from user_based_cf import *\n",
    "import pandas as pd\n",
    "import numpy as np"
   ]
  },
  {
   "cell_type": "code",
   "execution_count": 19,
   "metadata": {},
   "outputs": [
    {
     "name": "stdout",
     "output_type": "stream",
     "text": [
      "   userId  movieId  rating  timestamp\n",
      "0       1        1     4.0  964982703\n",
      "1       1        3     4.0  964981247\n",
      "2       1        6     4.0  964982224\n",
      "3       1       47     5.0  964983815\n",
      "4       1       50     5.0  964982931\n",
      "\n",
      "Row num:  100836\n"
     ]
    }
   ],
   "source": [
    "dsPath = 'ml-latest-small/ratings.csv'\n",
    "df = pd.read_csv(dsPath)\n",
    "\n",
    "print(df.head())\n",
    "print(\"\\nRow num: \", df.shape[0])"
   ]
  },
  {
   "cell_type": "code",
   "execution_count": 27,
   "metadata": {},
   "outputs": [
    {
     "name": "stdout",
     "output_type": "stream",
     "text": [
      "[68954, 903, 3476, 3244, 8641, 3255, 3948, 33493, 314, 7, 3972, 36850, 112515, 54910, 76093, 80126, 122926, 3249, 74789, 3253, 56715, 112454, 1262, 1945, 6874, 32, 1921, 2336, 1961, 2542]\n"
     ]
    }
   ],
   "source": [
    "users = [1, 2, 5]\n",
    "\n",
    "items = []\n",
    "for user in users:\n",
    "    tmp = getRecommendedItems(df, user)\n",
    "    items.extend([x[0] for x in tmp])\n",
    "\n",
    "print(items)"
   ]
  },
  {
   "cell_type": "code",
   "execution_count": 30,
   "metadata": {},
   "outputs": [],
   "source": [
    "def addUsersPred(df, users, items):\n",
    "    for user in users:\n",
    "        for item in items:\n",
    "            uRating = df[(df['userId'] == user) & (df['movieId'] == item)]['rating']\n",
    "            \n",
    "            if uRating.empty:\n",
    "                newRow = {'userId': user, 'movieId': item, 'rating': basePred(df, user, item),  'timestamp': 0}\n",
    "                df.loc[len(df)] = newRow\n",
    "            \n",
    "addUsersPred(df, users, items)"
   ]
  },
  {
   "cell_type": "code",
   "execution_count": 33,
   "metadata": {},
   "outputs": [
    {
     "name": "stdout",
     "output_type": "stream",
     "text": [
      "[(112454, 5.329314613733847), (56715, 5.11767718221981), (3972, 4.537117716356514), (36850, 4.534014779459512), (1945, 4.5163416674705035), (1262, 4.420983459165439), (1921, 4.407946913577528), (2542, 4.370779275621489), (32, 4.350258170495184), (1961, 4.341392606069912)]\n"
     ]
    }
   ],
   "source": [
    "def getGroupAveragePred(df, items, users, k=10):\n",
    "    item2pred = []\n",
    "    for item in items:\n",
    "        tmp = 0\n",
    "        for user in users:\n",
    "            uRating = df[(df['userId'] == user) & (df['movieId'] == item)]['rating']\n",
    "\n",
    "            if uRating.empty:\n",
    "                uRating = basePred(df, user, item)\n",
    "            else:\n",
    "                uRating = uRating.values[0]\n",
    "            \n",
    "            tmp += uRating\n",
    "            \n",
    "        item2pred.append((item, tmp/len(users)))\n",
    "\n",
    "    return sorted(item2pred, key=lambda x: x[1], reverse=True)[:k]\n",
    "\n",
    "print(getGroupAveragePred(df, items, users))"
   ]
  },
  {
   "cell_type": "code",
   "execution_count": 23,
   "metadata": {},
   "outputs": [
    {
     "name": "stdout",
     "output_type": "stream",
     "text": [
      "[(1123, 4.15314887120955), (55820, 4.0623997056210746), (3741, 4.0389594139800105), (1875, 3.962164894182067), (58559, 3.9576849345604836), (1193, 3.9389130081484947), (2324, 3.9277534171701634), (2935, 3.9013178774048307), (7028, 3.8851539270938322), (965, 3.8792055374038625)]\n"
     ]
    }
   ],
   "source": [
    "def getGroupLeastMiseryPred(df, items, users, k=10):\n",
    "    item2pred = []\n",
    "    for item in items:\n",
    "        min = np.inf\n",
    "        for user in users:\n",
    "            uRating = df[(df['userId'] == user) & (df['movieId'] == item)]['rating']\n",
    "\n",
    "            if uRating.empty:\n",
    "                uRating = basePred(df, user, item)\n",
    "            else:\n",
    "                uRating = uRating.values[0]\n",
    "                \n",
    "            if uRating < min:\n",
    "                min = uRating\n",
    "            \n",
    "        item2pred.append((item, min))\n",
    "\n",
    "    return sorted(item2pred, key=lambda x: x[1], reverse=True)[:k]\n",
    "\n",
    "print(getGroupLeastMiseryPred(df, items, users))"
   ]
  },
  {
   "cell_type": "code",
   "execution_count": 24,
   "metadata": {},
   "outputs": [
    {
     "name": "stdout",
     "output_type": "stream",
     "text": [
      "[5.30070336765371, 5.238236814032719, 5.037678205866246, 4.976355757272191, 4.859246031860111, 4.818156938145612, 4.771934586838677, 4.750960654687634, 4.74253557651834, 4.73058850775497]\n"
     ]
    }
   ],
   "source": [
    "def getUserPred(df, user, items, k=10):\n",
    "    userPred = []\n",
    "\n",
    "    for item in items:\n",
    "        uRating = df[(df['userId'] == user) & (df['movieId'] == item)]['rating']\n",
    "\n",
    "        if uRating.empty:\n",
    "            uRating = basePred(df, user, item)\n",
    "        else:\n",
    "            uRating = uRating.values[0]\n",
    "    \n",
    "        userPred.append(uRating)\n",
    "    \n",
    "    return sorted(userPred, key=lambda x: x, reverse=True)[:k]\n",
    "\n",
    "user = 1\n",
    "print(getUserPred(df, user, items))        "
   ]
  },
  {
   "cell_type": "code",
   "execution_count": 25,
   "metadata": {},
   "outputs": [
    {
     "name": "stdout",
     "output_type": "stream",
     "text": [
      "0.0335263091404797\n"
     ]
    }
   ],
   "source": [
    "def getSatisfaction(df, items, user):\n",
    "    den = sum(getUserPred(df, user, items, len(items)))\n",
    "    \n",
    "    for item in items:\n",
    "        num = 0\n",
    "            \n",
    "        uRating = df[(df['userId'] == user) & (df['movieId'] == item)]['rating']\n",
    "\n",
    "        if uRating.empty:\n",
    "            uRating = basePred(df, user, item)\n",
    "        else:\n",
    "            uRating = uRating.values[0]\n",
    "            \n",
    "        num += uRating\n",
    "    \n",
    "    return num / den\n",
    "        \n",
    "user = 1\n",
    "print(getSatisfaction(df, items, user))"
   ]
  },
  {
   "cell_type": "code",
   "execution_count": 26,
   "metadata": {},
   "outputs": [
    {
     "name": "stdout",
     "output_type": "stream",
     "text": [
      "[70862, 3451, 2935, 2324, 84152, 1193, 7028, 3741, 55820, 965, 1123]\n"
     ]
    }
   ],
   "source": [
    "def getSequentialRecommendations(df, items, users, k=10):\n",
    "    items = [x[0] for x in getGroupAveragePred(df, items, users, int(len(items)/2))]\n",
    "    candidateSet = [items.pop(0)]\n",
    "\n",
    "    for _ in range(0, k):\n",
    "        min = np.inf\n",
    "        bestItem = None\n",
    "\n",
    "        for item in items:\n",
    "            satisfaction = 0\n",
    "            tmp = candidateSet.copy()\n",
    "            tmp.append(item)\n",
    "            \n",
    "            for i in range(0, len(users)):\n",
    "                for j in range(i+1, len(users)):\n",
    "                    satisfaction += abs(getSatisfaction(df, tmp, users[i]) - getSatisfaction(df, tmp, users[j]))\n",
    "\n",
    "            if satisfaction < min:\n",
    "                min = satisfaction\n",
    "                bestItem = item\n",
    "\n",
    "        items.remove(bestItem)\n",
    "        candidateSet.append(bestItem)\n",
    "    \n",
    "    return candidateSet\n",
    "\n",
    "print(getSequentialRecommendations(df, items, users, k=10))\n",
    "\n"
   ]
  }
 ],
 "metadata": {
  "kernelspec": {
   "display_name": "ATCS",
   "language": "python",
   "name": "python3"
  },
  "language_info": {
   "codemirror_mode": {
    "name": "ipython",
    "version": 3
   },
   "file_extension": ".py",
   "mimetype": "text/x-python",
   "name": "python",
   "nbconvert_exporter": "python",
   "pygments_lexer": "ipython3",
   "version": "3.11.8"
  }
 },
 "nbformat": 4,
 "nbformat_minor": 2
}
